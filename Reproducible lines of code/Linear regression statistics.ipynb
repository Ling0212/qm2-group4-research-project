{
 "cells": [
  {
   "cell_type": "code",
   "execution_count": 1,
   "metadata": {},
   "outputs": [],
   "source": [
    "import pandas as pd\n",
    "import numpy as np\n",
    "import matplotlib.pyplot as plt\n",
    "from sklearn.linear_model import LinearRegression\n",
    "from sklearn.metrics import r2_score\n",
    "import statsmodels.api as sm"
   ]
  },
  {
   "cell_type": "code",
   "execution_count": 3,
   "metadata": {
    "scrolled": true
   },
   "outputs": [
    {
     "data": {
      "text/html": [
       "<div>\n",
       "<style scoped>\n",
       "    .dataframe tbody tr th:only-of-type {\n",
       "        vertical-align: middle;\n",
       "    }\n",
       "\n",
       "    .dataframe tbody tr th {\n",
       "        vertical-align: top;\n",
       "    }\n",
       "\n",
       "    .dataframe thead th {\n",
       "        text-align: right;\n",
       "    }\n",
       "</style>\n",
       "<table border=\"1\" class=\"dataframe\">\n",
       "  <thead>\n",
       "    <tr style=\"text-align: right;\">\n",
       "      <th></th>\n",
       "      <th>Total Energy Supply (TJ) per capita</th>\n",
       "      <th>Total Electricity Generation  per Capita (GWh)</th>\n",
       "      <th>Expected Years of Schooling (years)</th>\n",
       "      <th>Life expectancy (years)</th>\n",
       "      <th>GNI(constant 2017 PPP$)</th>\n",
       "    </tr>\n",
       "  </thead>\n",
       "  <tbody>\n",
       "    <tr>\n",
       "      <th>0</th>\n",
       "      <td>29.2</td>\n",
       "      <td>0.00096</td>\n",
       "      <td>11.7</td>\n",
       "      <td>70.3</td>\n",
       "      <td>9197</td>\n",
       "    </tr>\n",
       "    <tr>\n",
       "      <th>1</th>\n",
       "      <td>34.7</td>\n",
       "      <td>0.00093</td>\n",
       "      <td>11.9</td>\n",
       "      <td>70.6</td>\n",
       "      <td>11000</td>\n",
       "    </tr>\n",
       "    <tr>\n",
       "      <th>2</th>\n",
       "      <td>33.4</td>\n",
       "      <td>0.00105</td>\n",
       "      <td>12.0</td>\n",
       "      <td>70.9</td>\n",
       "      <td>12404</td>\n",
       "    </tr>\n",
       "    <tr>\n",
       "      <th>3</th>\n",
       "      <td>45.2</td>\n",
       "      <td>0.00107</td>\n",
       "      <td>12.2</td>\n",
       "      <td>71.3</td>\n",
       "      <td>12823</td>\n",
       "    </tr>\n",
       "    <tr>\n",
       "      <th>4</th>\n",
       "      <td>47.3</td>\n",
       "      <td>0.00110</td>\n",
       "      <td>12.4</td>\n",
       "      <td>71.7</td>\n",
       "      <td>13383</td>\n",
       "    </tr>\n",
       "  </tbody>\n",
       "</table>\n",
       "</div>"
      ],
      "text/plain": [
       "   Total Energy Supply (TJ) per capita  \\\n",
       "0                                 29.2   \n",
       "1                                 34.7   \n",
       "2                                 33.4   \n",
       "3                                 45.2   \n",
       "4                                 47.3   \n",
       "\n",
       "   Total Electricity Generation  per Capita (GWh)  \\\n",
       "0                                         0.00096   \n",
       "1                                         0.00093   \n",
       "2                                         0.00105   \n",
       "3                                         0.00107   \n",
       "4                                         0.00110   \n",
       "\n",
       "   Expected Years of Schooling (years)  Life expectancy (years)  \\\n",
       "0                                 11.7                     70.3   \n",
       "1                                 11.9                     70.6   \n",
       "2                                 12.0                     70.9   \n",
       "3                                 12.2                     71.3   \n",
       "4                                 12.4                     71.7   \n",
       "\n",
       "   GNI(constant 2017 PPP$)  \n",
       "0                     9197  \n",
       "1                    11000  \n",
       "2                    12404  \n",
       "3                    12823  \n",
       "4                    13383  "
      ]
     },
     "execution_count": 3,
     "metadata": {},
     "output_type": "execute_result"
    }
   ],
   "source": [
    "data = pd.read_csv(\"lebanon_data.csv\")\n",
    "data.head()"
   ]
  },
  {
   "cell_type": "code",
   "execution_count": 20,
   "metadata": {},
   "outputs": [
    {
     "data": {
      "text/plain": [
       "LinearRegression()"
      ]
     },
     "execution_count": 20,
     "metadata": {},
     "output_type": "execute_result"
    }
   ],
   "source": [
    "X = data['Total Electricity Generation  per Capita (GWh)'].values.reshape(-1,1)\n",
    "y = data['Life expectancy (years)'].values.reshape(-1,1)\n",
    "\n",
    "reg = LinearRegression()\n",
    "reg.fit(X, y)"
   ]
  },
  {
   "cell_type": "code",
   "execution_count": 21,
   "metadata": {
    "scrolled": false
   },
   "outputs": [
    {
     "name": "stdout",
     "output_type": "stream",
     "text": [
      "8193.954824389612\n",
      "62.914933411672536\n",
      "The linear model is: Y = 62.915 + 8194.0X\n"
     ]
    }
   ],
   "source": [
    "print(reg.coef_[0][0])\n",
    "print(reg.intercept_[0])\n",
    "\n",
    "print(\"The linear model is: Y = {:.5} + {:.5}X\".format(reg.intercept_[0], reg.coef_[0][0]))"
   ]
  },
  {
   "cell_type": "code",
   "execution_count": 22,
   "metadata": {},
   "outputs": [
    {
     "data": {
      "image/png": "[encoded data removed]",
      "text/plain": [
       "<Figure size 1152x576 with 1 Axes>"
      ]
     },
     "metadata": {
      "needs_background": "light"
     },
     "output_type": "display_data"
    }
   ],
   "source": [
    "predictions = reg.predict(X)\n",
    "\n",
    "plt.figure(figsize=(16, 8))\n",
    "plt.scatter(\n",
    "    data['Total Electricity Generation  per Capita (GWh)'],\n",
    "    data['Life expectancy (years)'],\n",
    "    c='black'\n",
    ")\n",
    "plt.plot(\n",
    "    data['Total Electricity Generation  per Capita (GWh)'],\n",
    "    predictions,\n",
    "    c='blue',\n",
    "    linewidth=2\n",
    ")\n",
    "plt.xlabel(\"Total Electricity Generation  per Capita (GWh)\")\n",
    "plt.ylabel(\"Life expectancy (years)\")\n",
    "plt.show()"
   ]
  },
  {
   "cell_type": "code",
   "execution_count": 16,
   "metadata": {
    "scrolled": false
   },
   "outputs": [
    {
     "name": "stdout",
     "output_type": "stream",
     "text": [
      "                               OLS Regression Results                              \n",
      "===================================================================================\n",
      "Dep. Variable:     Life expectancy (years)   R-squared:                       0.938\n",
      "Model:                                 OLS   Adj. R-squared:                  0.936\n",
      "Method:                      Least Squares   F-statistic:                     422.4\n",
      "Date:                     Tue, 04 Jan 2022   Prob (F-statistic):           1.99e-18\n",
      "Time:                             10:53:01   Log-Likelihood:                -33.476\n",
      "No. Observations:                       30   AIC:                             70.95\n",
      "Df Residuals:                           28   BIC:                             73.75\n",
      "Df Model:                                1                                         \n",
      "Covariance Type:                 nonrobust                                         \n",
      "==================================================================================================================\n",
      "                                                     coef    std err          t      P>|t|      [0.025      0.975]\n",
      "------------------------------------------------------------------------------------------------------------------\n",
      "const                                             62.9149      0.640     98.339      0.000      61.604      64.225\n",
      "Total Electricity Generation  per Capita (GWh)  8193.9548    398.703     20.552      0.000    7377.250    9010.660\n",
      "==============================================================================\n",
      "Omnibus:                        2.968   Durbin-Watson:                   0.663\n",
      "Prob(Omnibus):                  0.227   Jarque-Bera (JB):                1.746\n",
      "Skew:                           0.555   Prob(JB):                        0.418\n",
      "Kurtosis:                       3.406   Cond. No.                     2.86e+03\n",
      "==============================================================================\n",
      "\n",
      "Notes:\n",
      "[1] Standard Errors assume that the covariance matrix of the errors is correctly specified.\n",
      "[2] The condition number is large, 2.86e+03. This might indicate that there are\n",
      "strong multicollinearity or other numerical problems.\n"
     ]
    }
   ],
   "source": [
    "X2 = sm.add_constant(X)\n",
    "est = sm.OLS(y, X2)\n",
    "est2 = est.fit()\n",
    "print(est2.summary())"
   ]
  },
  {
   "cell_type": "code",
   "execution_count": 18,
   "metadata": {},
   "outputs": [
    {
     "name": "stdout",
     "output_type": "stream",
     "text": [
      "const                                             4.182335e-37\n",
      "Total Electricity Generation  per Capita (GWh)    1.985007e-18\n",
      "dtype: float64\n"
     ]
    }
   ],
   "source": [
    "print(est2.pvalues)"
   ]
  },
  {
   "cell_type": "code",
   "execution_count": null,
   "metadata": {},
   "outputs": [],
   "source": []
  }
 ],
 "metadata": {
  "kernelspec": {
   "display_name": "Python 3",
   "language": "python",
   "name": "python3"
  },
  "language_info": {
   "codemirror_mode": {
    "name": "ipython",
    "version": 3
   },
   "file_extension": ".py",
   "mimetype": "text/x-python",
   "name": "python",
   "nbconvert_exporter": "python",
   "pygments_lexer": "ipython3",
   "version": "3.8.5"
  }
 },
 "nbformat": 4,
 "nbformat_minor": 4
  }
